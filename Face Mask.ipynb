{
  "nbformat": 4,
  "nbformat_minor": 0,
  "metadata": {
    "colab": {
      "name": "Mlproject1.ipynb",
      "provenance": [],
      "collapsed_sections": []
    },
    "kernelspec": {
      "name": "python3",
      "display_name": "Python 3"
    },
    "language_info": {
      "name": "python"
    }
  },
  "cells": [
    {
      "cell_type": "code",
      "execution_count": null,
      "metadata": {
        "id": "leTMKZr3s1Yv",
        "colab": {
          "base_uri": "https://localhost:8080/"
        },
        "outputId": "775e43d7-c07d-46ba-c605-02e7dcec1244"
      },
      "outputs": [
        {
          "output_type": "stream",
          "name": "stdout",
          "text": [
            "Mounted at /content/drive\n"
          ]
        }
      ],
      "source": [
        "#Mount Drive to upload dataset\n",
        "from google.colab import drive\n",
        "drive.mount('/content/drive')"
      ]
    },
    {
      "cell_type": "code",
      "source": [
        "#import packages\n",
        "from keras.preprocessing.image import ImageDataGenerator\n",
        "from keras.models import Sequential,load_model\n",
        "from keras.layers import Conv2D,MaxPooling2D,SpatialDropout2D,Flatten,Dropout,Dense\n",
        "from keras.preprocessing import image\n",
        "import tensorflow as tf\n",
        "import matplotlib.pyplot as plt\n",
        "import cv2\n",
        "import numpy as np\n",
        "import os"
      ],
      "metadata": {
        "id": "IVjOxl-Ctx__"
      },
      "execution_count": null,
      "outputs": []
    },
    {
      "cell_type": "code",
      "source": [
        "#load image for detection\n",
        "#img=image.load_img('/content/drive/MyDrive/ml/FaceMask/withmask/0018.jpg')\n",
        "#img.show()"
      ],
      "metadata": {
        "id": "lXNWk5dmt39_"
      },
      "execution_count": null,
      "outputs": []
    },
    {
      "cell_type": "code",
      "source": [
        "#rescale image into range 255 from RGB\n",
        "train=ImageDataGenerator(rescale=1/255)\n",
        "test=ImageDataGenerator(rescale=1/255)\n"
      ],
      "metadata": {
        "id": "V7gU6zq-t8Nu"
      },
      "execution_count": null,
      "outputs": []
    },
    {
      "cell_type": "code",
      "source": [
        "#traindataset training model\n",
        "traindataset=train.flow_from_directory('/content/drive/MyDrive/ml/FaceMask/NewMasksDataset/Train',\n",
        "                                      target_size=(150,150),\n",
        "                                       batch_size=16,\n",
        "                                       class_mode='binary')\n",
        "testdataset=train.flow_from_directory('/content/drive/MyDrive/ml/FaceMask/NewMasksDataset/Test',\n",
        "                                      target_size=(150,150),\n",
        "                                       batch_size=16,\n",
        "                                       class_mode='binary')\n"
      ],
      "metadata": {
        "colab": {
          "base_uri": "https://localhost:8080/"
        },
        "id": "hcnfIW9buAWr",
        "outputId": "af68a2f5-ea18-4f7e-b0b0-6a68e25f4c83"
      },
      "execution_count": null,
      "outputs": [
        {
          "output_type": "stream",
          "name": "stdout",
          "text": [
            "Found 600 images belonging to 2 classes.\n",
            "Found 100 images belonging to 2 classes.\n"
          ]
        }
      ]
    },
    {
      "cell_type": "code",
      "source": [
        "#CNN with having 3 layers to train model\n",
        "model=Sequential()\n",
        "model.add(Conv2D(32,(3,3),activation='relu',input_shape=(150,150,3)))#filters #Kernalsize #RELU\n",
        "model.add(MaxPooling2D() )\n",
        "model.add(Conv2D(32,(3,3),activation='relu'))\n",
        "model.add(MaxPooling2D() )\n",
        "model.add(Conv2D(32,(3,3),activation='relu'))\n",
        "model.add(MaxPooling2D() )\n",
        "model.add(Flatten())\n",
        "model.add(Dense(100,activation='relu'))\n",
        "model.add(Dense(1,activation='sigmoid'))"
      ],
      "metadata": {
        "id": "YZFEYQ7ouFIB"
      },
      "execution_count": null,
      "outputs": []
    },
    {
      "cell_type": "code",
      "source": [
        "model.compile(optimizer='adam',loss='binary_crossentropy',metrics=['accuracy'])"
      ],
      "metadata": {
        "id": "zOmcXvUDuK1z"
      },
      "execution_count": null,
      "outputs": []
    },
    {
      "cell_type": "code",
      "source": [
        "#train model upto 7 epochs\n",
        "model_saved=model.fit_generator(\n",
        "        traindataset,\n",
        "        epochs=7)"
      ],
      "metadata": {
        "colab": {
          "base_uri": "https://localhost:8080/"
        },
        "id": "29yOBjZBuNzg",
        "outputId": "e261e97c-97d6-4331-b91c-a9f770bacc2d"
      },
      "execution_count": null,
      "outputs": [
        {
          "output_type": "stream",
          "name": "stderr",
          "text": [
            "/usr/local/lib/python3.7/dist-packages/ipykernel_launcher.py:4: UserWarning: `Model.fit_generator` is deprecated and will be removed in a future version. Please use `Model.fit`, which supports generators.\n",
            "  after removing the cwd from sys.path.\n"
          ]
        },
        {
          "output_type": "stream",
          "name": "stdout",
          "text": [
            "Epoch 1/7\n",
            "38/38 [==============================] - 20s 495ms/step - loss: 0.5321 - accuracy: 0.6933\n",
            "Epoch 2/7\n",
            "38/38 [==============================] - 19s 493ms/step - loss: 0.2671 - accuracy: 0.8933\n",
            "Epoch 3/7\n",
            "38/38 [==============================] - 19s 495ms/step - loss: 0.1987 - accuracy: 0.9267\n",
            "Epoch 4/7\n",
            "38/38 [==============================] - 19s 489ms/step - loss: 0.1339 - accuracy: 0.9533\n",
            "Epoch 5/7\n",
            "38/38 [==============================] - 19s 491ms/step - loss: 0.1220 - accuracy: 0.9483\n",
            "Epoch 6/7\n",
            "38/38 [==============================] - 19s 491ms/step - loss: 0.1625 - accuracy: 0.9383\n",
            "Epoch 7/7\n",
            "38/38 [==============================] - 19s 487ms/step - loss: 0.1165 - accuracy: 0.9583\n"
          ]
        }
      ]
    },
    {
      "cell_type": "code",
      "source": [
        "#save model\n",
        "model.save('model.h5')"
      ],
      "metadata": {
        "id": "sdcqL6i1Te1h"
      },
      "execution_count": null,
      "outputs": []
    },
    {
      "cell_type": "code",
      "source": [
        "#testing model\n",
        "prediction=model.predict(testdataset)"
      ],
      "metadata": {
        "id": "BhFm4qrEXzRl"
      },
      "execution_count": null,
      "outputs": []
    },
    {
      "cell_type": "code",
      "source": [
        "from keras.models import load_model\n",
        "import cv2\n",
        "import numpy as np\n",
        "\n",
        "model=load_model('model.h5')\n",
        "model.compile(optimizer='adam',loss='binary_crossentropy',metrics=['accuracy'])\n",
        "\n",
        "img=cv2.imread('/content/drive/MyDrive/ml/Passport.jpg')\n",
        "img=cv2.resize(img,(150,150))\n",
        "img=np.reshape(img,[1,150,150,3])\n",
        "\n",
        "classes=model.predict(img)\n",
        "print(classes)\n"
      ],
      "metadata": {
        "id": "EGa0aYD0sgeI",
        "colab": {
          "base_uri": "https://localhost:8080/"
        },
        "outputId": "c453f932-c081-4e75-a718-d6cb4a0b9c07"
      },
      "execution_count": null,
      "outputs": [
        {
          "output_type": "stream",
          "name": "stdout",
          "text": [
            "[[0.]]\n"
          ]
        }
      ]
    }
  ]
}